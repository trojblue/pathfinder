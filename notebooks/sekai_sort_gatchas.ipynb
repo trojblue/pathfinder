{
 "cells": [
  {
   "cell_type": "code",
   "execution_count": 17,
   "id": "initial_id",
   "metadata": {
    "collapsed": true,
    "ExecuteTime": {
     "end_time": "2023-11-18T15:06:34.811140600Z",
     "start_time": "2023-11-18T15:06:34.793665600Z"
    }
   },
   "outputs": [],
   "source": [
    "# !pip install -q unibox\n",
    "import unibox\n",
    "import os\n",
    "import shutil\n",
    "from collections import defaultdict"
   ]
  },
  {
   "cell_type": "markdown",
   "source": [
    "curr:\n",
    "```\n",
    "all_files = unibox.traverses(r\"E:\\sekai\\gatcha_card\")\n",
    "```\n",
    "out:\n",
    "```\n",
    "['E:\\\\sekai\\\\gatcha_card\\\\res001_no001_rip\\\\001001_ichika01.json',\n",
    " 'E:\\\\sekai\\\\gatcha_card\\\\res001_no001_rip\\\\001001_ichika02.json',\n",
    " 'E:\\\\sekai\\\\gatcha_card\\\\res001_no001_rip\\\\card_normal.png',\n",
    " 'E:\\\\sekai\\\\gatcha_card\\\\res001_no001_rip\\\\card_normal.webp',]\n",
    "```\n",
    "todo:\n",
    "- count the files in each folder.\n",
    "- if a folder has 6 files, put them in a list called rares_list\n",
    "- if a folder has 4 files, put them in a list called normals_list\n",
    "- move all folders in rares_list to a given destination at `E:\\\\sekai\\\\gatcha_card\\\\rares`\n",
    "- move all folders in normals_list to `E:\\\\sekai\\\\gatcha_card\\\\normals`"
   ],
   "metadata": {
    "collapsed": false
   },
   "id": "ae5765b053da5d61"
  },
  {
   "cell_type": "code",
   "execution_count": 9,
   "outputs": [
    {
     "name": "stderr",
     "output_type": "stream",
     "text": [
      "                                          \r"
     ]
    },
    {
     "data": {
      "text/plain": "['E:\\\\sekai\\\\gatcha_card\\\\res001_no001_rip\\\\001001_ichika01.json',\n 'E:\\\\sekai\\\\gatcha_card\\\\res001_no001_rip\\\\001001_ichika02.json',\n 'E:\\\\sekai\\\\gatcha_card\\\\res001_no001_rip\\\\card_normal.png',\n 'E:\\\\sekai\\\\gatcha_card\\\\res001_no001_rip\\\\card_normal.webp']"
     },
     "execution_count": 9,
     "metadata": {},
     "output_type": "execute_result"
    }
   ],
   "source": [
    "all_files = unibox.traverses(r\"E:\\sekai\\gatcha_card\")\n",
    "all_files[:4]"
   ],
   "metadata": {
    "collapsed": false,
    "ExecuteTime": {
     "end_time": "2023-11-18T06:14:08.776224300Z",
     "start_time": "2023-11-18T06:14:08.708160500Z"
    }
   },
   "id": "946db878eb6fc68"
  },
  {
   "cell_type": "code",
   "execution_count": 11,
   "outputs": [],
   "source": [
    "def categorize_and_move_folders(root_dir: str, rares_dest: str, normals_dest: str):\n",
    "    rares_list = []\n",
    "    normals_list = []\n",
    "    file_count = defaultdict(int)\n",
    "\n",
    "    # Count files in each folder\n",
    "    for root, dirs, files in os.walk(root_dir):\n",
    "        for file in files:\n",
    "            file_count[root] += 1\n",
    "\n",
    "    # Categorize folders\n",
    "    for folder, count in file_count.items():\n",
    "        if count == 6:\n",
    "            rares_list.append(folder)\n",
    "        elif count == 4:\n",
    "            normals_list.append(folder)\n",
    "\n",
    "    # Function to move folders\n",
    "    def move_folders(folders, destination):\n",
    "        os.makedirs(destination, exist_ok=True)\n",
    "        for folder in folders:\n",
    "            dest_folder = os.path.join(destination, os.path.basename(folder))\n",
    "            shutil.move(folder, dest_folder)\n",
    "\n",
    "    # Move folders to respective destinations\n",
    "    move_folders(rares_list, rares_dest)\n",
    "    move_folders(normals_list, normals_dest)\n",
    "\n",
    "# Define directories\n",
    "root_dir = r\"E:\\sekai\\gatcha_card\"\n",
    "rares_dest = r\"E:\\sekai\\gatcha_card\\rares\"\n",
    "normals_dest = r\"E:\\sekai\\gatcha_card\\normals\"\n",
    "\n",
    "# Run the function\n",
    "categorize_and_move_folders(root_dir, rares_dest, normals_dest)"
   ],
   "metadata": {
    "collapsed": false,
    "ExecuteTime": {
     "end_time": "2023-11-18T06:14:27.891763800Z",
     "start_time": "2023-11-18T06:14:27.714393300Z"
    }
   },
   "id": "4860b3dc3f7d2b16"
  },
  {
   "cell_type": "code",
   "execution_count": 16,
   "outputs": [
    {
     "name": "stderr",
     "output_type": "stream",
     "text": [
      "                                          \r"
     ]
    },
    {
     "data": {
      "text/plain": "['E:\\\\sekai\\\\gatcha_card\\\\rares\\\\res001_no002_rip\\\\001002_ichika01.json',\n 'E:\\\\sekai\\\\gatcha_card\\\\rares\\\\res001_no002_rip\\\\001002_ichika02.json',\n 'E:\\\\sekai\\\\gatcha_card\\\\rares\\\\res001_no002_rip\\\\002001_saki01.json',\n 'E:\\\\sekai\\\\gatcha_card\\\\rares\\\\res001_no002_rip\\\\002001_saki02.json',\n 'E:\\\\sekai\\\\gatcha_card\\\\rares\\\\res001_no002_rip\\\\card_normal.png',\n 'E:\\\\sekai\\\\gatcha_card\\\\rares\\\\res001_no003_rip\\\\001003_ichika01.json',\n 'E:\\\\sekai\\\\gatcha_card\\\\rares\\\\res001_no003_rip\\\\001003_ichika02.json',\n 'E:\\\\sekai\\\\gatcha_card\\\\rares\\\\res001_no003_rip\\\\card_after_training.png',\n 'E:\\\\sekai\\\\gatcha_card\\\\rares\\\\res001_no003_rip\\\\card_normal.png',\n 'E:\\\\sekai\\\\gatcha_card\\\\rares\\\\res001_no004_rip\\\\001004_ichika01.json']"
     },
     "execution_count": 16,
     "metadata": {},
     "output_type": "execute_result"
    }
   ],
   "source": [
    "# copy files in the new folder in to a single folder, but with different filenames (according to their subdir)\n",
    "\n",
    "new_folder_files = unibox.traverses(r\"E:\\sekai\\gatcha_card\\rares\", include_extensions=[\".png\", \".json\"])\n",
    "\n",
    "TARGET_DIR = r\"E:\\sekai\\gatcha_card\\rares\\all_rares\"\n",
    "\n",
    "new_folder_files[:10]"
   ],
   "metadata": {
    "collapsed": false,
    "ExecuteTime": {
     "end_time": "2023-11-18T15:03:19.971499200Z",
     "start_time": "2023-11-18T15:03:19.907368500Z"
    }
   },
   "id": "4342aa30275a831"
  },
  {
   "cell_type": "code",
   "execution_count": 18,
   "outputs": [],
   "source": [
    "def move_and_rename_files(source_dir: str, target_dir: str, include_extensions: list):\n",
    "    os.makedirs(target_dir, exist_ok=True)\n",
    "\n",
    "    for root, dirs, files in os.walk(source_dir):\n",
    "        for file in files:\n",
    "            if any(file.endswith(ext) for ext in include_extensions):\n",
    "                folder_name = os.path.basename(root)\n",
    "                new_file_name = f\"{folder_name}_{file}\"  # Adjust this if you have more specific renaming rules\n",
    "                shutil.copy2(os.path.join(root, file), os.path.join(target_dir, new_file_name))\n",
    "\n",
    "# Define the directories and extensions\n",
    "source_dir = r\"E:\\sekai\\gatcha_card\\rares\"\n",
    "target_dir = r\"E:\\sekai\\gatcha_card\\rares\\all_rares\"\n",
    "include_extensions = [\".png\"]\n",
    "\n",
    "# Run the function\n",
    "move_and_rename_files(source_dir, target_dir, include_extensions)"
   ],
   "metadata": {
    "collapsed": false,
    "ExecuteTime": {
     "end_time": "2023-11-18T15:07:07.000036700Z",
     "start_time": "2023-11-18T15:07:00.500779400Z"
    }
   },
   "id": "42a7489ff6613569"
  }
 ],
 "metadata": {
  "kernelspec": {
   "display_name": "Python 3",
   "language": "python",
   "name": "python3"
  },
  "language_info": {
   "codemirror_mode": {
    "name": "ipython",
    "version": 2
   },
   "file_extension": ".py",
   "mimetype": "text/x-python",
   "name": "python",
   "nbconvert_exporter": "python",
   "pygments_lexer": "ipython2",
   "version": "2.7.6"
  }
 },
 "nbformat": 4,
 "nbformat_minor": 5
}
