{
 "cells": [
  {
   "cell_type": "code",
   "execution_count": 2,
   "id": "6f4be481-5a8d-4fd9-98ee-8dd450578c4e",
   "metadata": {},
   "outputs": [],
   "source": [
    "import requests\n",
    "import xml.etree.ElementTree as ET"
   ]
  },
  {
   "cell_type": "code",
   "execution_count": 4,
   "id": "ec5c7007-2b55-4185-9529-3d7473d5103d",
   "metadata": {},
   "outputs": [
    {
     "name": "stdout",
     "output_type": "stream",
     "text": [
      "<?xml version=\"1.0\" encoding=\"UTF-8\"?>\n",
      "<ListBucketResult xmlns=\"http://s3.amazonaws.com/doc/2006-03-01/\"><Name>sekai-assets</Name><Prefix>sound/</Prefix><KeyCount>12</KeyCount><MaxKeys>500</MaxKeys><Delimiter>/</Delimiter><IsTruncated>false</IsTruncated><CommonPrefixes><Prefix>sound/actionset/</Prefix></CommonPrefixes><CommonPrefixes><Prefix>sound/area_bgm/</Prefix></CommonPrefixes><CommonPrefixes><Prefix>sound/card_scenario/</Prefix></CommonPrefixes><CommonPrefixes><Prefix>sound/cheerful_carnival/</Prefix></CommonPrefixes><CommonPrefixes><Prefix>sound/gacha/</Prefix></CommonPrefixes><CommonPrefixes><Prefix>sound/menu/</Prefix></CommonPrefixes><CommonPrefixes><Prefix>sound/scenario/</Prefix></CommonPrefixes><CommonPrefixes><Prefix>sound/system/</Prefix></CommonPrefixes><CommonPrefixes><Prefix>sound/system_live2d/</Prefix></CommonPrefixes><CommonPrefixes><Prefix>sound/tutorial_rip/</Prefix></CommonPrefixes><CommonPrefixes><Prefix>sound/tutorial_scenario/</Prefix></CommonPrefixes><CommonPrefixes><Prefix>sound/virtual_live/</Prefix></CommonPrefixes></ListBucketResult>\n"
     ]
    }
   ],
   "source": [
    "url = \"https://storage.sekai.best/sekai-assets/?delimiter=%2F&list-type=2&max-keys=500&prefix=sound%2F\"\n",
    "\n",
    "response = requests.get(url)\n",
    "\n",
    "if response.status_code == 200:\n",
    "    content = response.text\n",
    "else:\n",
    "    content = f\"Failed to retrieve data, status code: {response.status_code}\"\n",
    "\n",
    "print(content)"
   ]
  },
  {
   "cell_type": "code",
   "execution_count": 6,
   "id": "cc33a6b8-9e1c-48d7-9647-517ea1673bef",
   "metadata": {},
   "outputs": [
    {
     "name": "stdout",
     "output_type": "stream",
     "text": [
      "['sound/actionset/', 'sound/area_bgm/', 'sound/card_scenario/', 'sound/cheerful_carnival/', 'sound/gacha/', 'sound/menu/', 'sound/scenario/', 'sound/system/', 'sound/system_live2d/', 'sound/tutorial_rip/', 'sound/tutorial_scenario/', 'sound/virtual_live/']\n"
     ]
    }
   ],
   "source": [
    "xml_content = content\n",
    "root = ET.fromstring(xml_content)\n",
    "# Define namespace to handle the 'xmlns' attribute in XML\n",
    "namespace = {'s3': 'http://s3.amazonaws.com/doc/2006-03-01/'}\n",
    "\n",
    "# Extract 'CommonPrefixes' and their 'Prefix' values\n",
    "common_prefixes = [cp.find('s3:Prefix', namespace).text for cp in root.findall('.//s3:CommonPrefixes', namespace)]\n",
    "\n",
    "print(common_prefixes)"
   ]
  }
 ],
 "metadata": {
  "kernelspec": {
   "display_name": "Python 3 (ipykernel)",
   "language": "python",
   "name": "python3"
  },
  "language_info": {
   "codemirror_mode": {
    "name": "ipython",
    "version": 3
   },
   "file_extension": ".py",
   "mimetype": "text/x-python",
   "name": "python",
   "nbconvert_exporter": "python",
   "pygments_lexer": "ipython3",
   "version": "3.10.12"
  }
 },
 "nbformat": 4,
 "nbformat_minor": 5
}
